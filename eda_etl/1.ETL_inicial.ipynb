{
 "cells": [
  {
   "cell_type": "code",
   "execution_count": 2,
   "metadata": {},
   "outputs": [],
   "source": [
    "#Importo librerías a utilizar\n",
    "import pandas as pd\n",
    "import gzip\n",
    "import json\n",
    "import ast"
   ]
  },
  {
   "cell_type": "code",
   "execution_count": 3,
   "metadata": {},
   "outputs": [
    {
     "name": "stdout",
     "output_type": "stream",
     "text": [
      "  publisher genres app_name title  url release_date tags reviews_url specs  \\\n",
      "0       NaN    NaN      NaN   NaN  NaN          NaN  NaN         NaN   NaN   \n",
      "1       NaN    NaN      NaN   NaN  NaN          NaN  NaN         NaN   NaN   \n",
      "2       NaN    NaN      NaN   NaN  NaN          NaN  NaN         NaN   NaN   \n",
      "3       NaN    NaN      NaN   NaN  NaN          NaN  NaN         NaN   NaN   \n",
      "4       NaN    NaN      NaN   NaN  NaN          NaN  NaN         NaN   NaN   \n",
      "\n",
      "  price early_access   id developer  \n",
      "0   NaN          NaN  NaN       NaN  \n",
      "1   NaN          NaN  NaN       NaN  \n",
      "2   NaN          NaN  NaN       NaN  \n",
      "3   NaN          NaN  NaN       NaN  \n",
      "4   NaN          NaN  NaN       NaN  \n"
     ]
    }
   ],
   "source": [
    "# Archivo steam_games\n",
    "steam_games = \"steam_games.json.gz\"\n",
    "\n",
    "try:\n",
    "    data = []\n",
    "    with gzip.open(steam_games, 'rt') as file:\n",
    "        for line in file:\n",
    "            try:\n",
    "                json_data = json.loads(line)\n",
    "                data.append(json_data)\n",
    "            except json.JSONDecodeError as e:\n",
    "                print(f\"Error al analizar una línea del archivo JSON: {e}\")\n",
    "\n",
    "    # Creo un DataFrame a partir de la lista de objetos JSON obtenida\n",
    "    df_steam_games = pd.DataFrame(data)\n",
    "\n",
    "    # Trabajo con df_steam_games como un DataFrame de Pandas\n",
    "    print(df_steam_games.head())  # Muestra las primeras filas del DataFrame\n",
    "except FileNotFoundError:\n",
    "    print(f\"El archivo {steam_games} no se encontró.\")\n",
    "except Exception as e:\n",
    "    print(f\"Ocurrió un error: {e}\")\n",
    "\n",
    "\n",
    "# Guardo el dataframe obtenido con compresión parquet\n",
    "steam_games.to_parquet('../data/df_steam_games_compr.parquet')\n",
    "     "
   ]
  },
  {
   "cell_type": "code",
   "execution_count": null,
   "metadata": {},
   "outputs": [],
   "source": [
    "# Archivo australian_user_reviews\n",
    "\n",
    "data_list = []\n",
    "file = 'australian_user_reviews.json'\n",
    "with open(file, 'r', encoding='utf-8') as file:\n",
    "    for line in file:\n",
    "        try:\n",
    "            # Usar ast.literal_eval para convertir la línea en un diccionario\n",
    "            json_data = ast.literal_eval(line)\n",
    "            data_list.append(json_data)\n",
    "        except ValueError as e:\n",
    "            print(f\"Error en la línea: {line}\")\n",
    "            continue\n",
    "df_user_reviews = pd.DataFrame(data_list)\n",
    "\n",
    "# Creo un df con el archivo review y accedo a la columna que me interesa desanidar.\n",
    "df_reviewsOpen = df_user_reviews.explode('reviews') \n",
    "\n",
    "# Creo un nuevo df donde esta la info desanidada en columnas\n",
    "dfreviewsOpen = pd.concat([df_reviewsOpen.drop(['reviews'], axis=1), df_reviewsOpen['reviews'].apply(pd.Series)], axis=1) \n",
    "\n",
    "# Guardamos el dataframe obtenido con compresión parquet\n",
    "df_reviewsOpen.to_parquet('../data/df_reviews.parquet')"
   ]
  },
  {
   "cell_type": "code",
   "execution_count": null,
   "metadata": {},
   "outputs": [
    {
     "ename": "KeyboardInterrupt",
     "evalue": "",
     "output_type": "error",
     "traceback": [
      "\u001b[1;31m---------------------------------------------------------------------------\u001b[0m",
      "\u001b[1;31mKeyboardInterrupt\u001b[0m                         Traceback (most recent call last)",
      "\u001b[1;32mc:\\Users\\LENOVO\\OneDrive\\Desktop\\SOY HENRY\\PI-1\\etl_eda\\etl_inicial.ipynb Cell 4\u001b[0m line \u001b[0;36m6\n\u001b[0;32m      <a href='vscode-notebook-cell:/c%3A/Users/LENOVO/OneDrive/Desktop/SOY%20HENRY/PI-1/etl_eda/etl_inicial.ipynb#W3sZmlsZQ%3D%3D?line=3'>4</a>\u001b[0m file_path \u001b[39m=\u001b[39m \u001b[39m'\u001b[39m\u001b[39maustralian_users_items.json\u001b[39m\u001b[39m'\u001b[39m\n\u001b[0;32m      <a href='vscode-notebook-cell:/c%3A/Users/LENOVO/OneDrive/Desktop/SOY%20HENRY/PI-1/etl_eda/etl_inicial.ipynb#W3sZmlsZQ%3D%3D?line=4'>5</a>\u001b[0m \u001b[39mwith\u001b[39;00m \u001b[39mopen\u001b[39m(file_path, \u001b[39m'\u001b[39m\u001b[39mr\u001b[39m\u001b[39m'\u001b[39m, encoding\u001b[39m=\u001b[39m\u001b[39m'\u001b[39m\u001b[39mutf-8\u001b[39m\u001b[39m'\u001b[39m) \u001b[39mas\u001b[39;00m file:\n\u001b[1;32m----> <a href='vscode-notebook-cell:/c%3A/Users/LENOVO/OneDrive/Desktop/SOY%20HENRY/PI-1/etl_eda/etl_inicial.ipynb#W3sZmlsZQ%3D%3D?line=5'>6</a>\u001b[0m     \u001b[39mfor\u001b[39;00m line \u001b[39min\u001b[39;00m file:\n\u001b[0;32m      <a href='vscode-notebook-cell:/c%3A/Users/LENOVO/OneDrive/Desktop/SOY%20HENRY/PI-1/etl_eda/etl_inicial.ipynb#W3sZmlsZQ%3D%3D?line=6'>7</a>\u001b[0m         \u001b[39mtry\u001b[39;00m:\n\u001b[0;32m      <a href='vscode-notebook-cell:/c%3A/Users/LENOVO/OneDrive/Desktop/SOY%20HENRY/PI-1/etl_eda/etl_inicial.ipynb#W3sZmlsZQ%3D%3D?line=7'>8</a>\u001b[0m             \u001b[39m# Usar ast.literal_eval para convertir la línea en un diccionario\u001b[39;00m\n\u001b[0;32m      <a href='vscode-notebook-cell:/c%3A/Users/LENOVO/OneDrive/Desktop/SOY%20HENRY/PI-1/etl_eda/etl_inicial.ipynb#W3sZmlsZQ%3D%3D?line=8'>9</a>\u001b[0m             json_data \u001b[39m=\u001b[39m ast\u001b[39m.\u001b[39mliteral_eval(line)\n",
      "File \u001b[1;32mC:\\Program Files\\WindowsApps\\PythonSoftwareFoundation.Python.3.10_3.10.3056.0_x64__qbz5n2kfra8p0\\lib\\codecs.py:319\u001b[0m, in \u001b[0;36mBufferedIncrementalDecoder.decode\u001b[1;34m(self, input, final)\u001b[0m\n\u001b[0;32m    314\u001b[0m \u001b[39mdef\u001b[39;00m \u001b[39m_buffer_decode\u001b[39m(\u001b[39mself\u001b[39m, \u001b[39minput\u001b[39m, errors, final):\n\u001b[0;32m    315\u001b[0m     \u001b[39m# Overwrite this method in subclasses: It must decode input\u001b[39;00m\n\u001b[0;32m    316\u001b[0m     \u001b[39m# and return an (output, length consumed) tuple\u001b[39;00m\n\u001b[0;32m    317\u001b[0m     \u001b[39mraise\u001b[39;00m \u001b[39mNotImplementedError\u001b[39;00m\n\u001b[1;32m--> 319\u001b[0m \u001b[39mdef\u001b[39;00m \u001b[39mdecode\u001b[39m(\u001b[39mself\u001b[39m, \u001b[39minput\u001b[39m, final\u001b[39m=\u001b[39m\u001b[39mFalse\u001b[39;00m):\n\u001b[0;32m    320\u001b[0m     \u001b[39m# decode input (taking the buffer into account)\u001b[39;00m\n\u001b[0;32m    321\u001b[0m     data \u001b[39m=\u001b[39m \u001b[39mself\u001b[39m\u001b[39m.\u001b[39mbuffer \u001b[39m+\u001b[39m \u001b[39minput\u001b[39m\n\u001b[0;32m    322\u001b[0m     (result, consumed) \u001b[39m=\u001b[39m \u001b[39mself\u001b[39m\u001b[39m.\u001b[39m_buffer_decode(data, \u001b[39mself\u001b[39m\u001b[39m.\u001b[39merrors, final)\n",
      "\u001b[1;31mKeyboardInterrupt\u001b[0m: "
     ]
    },
    {
     "ename": "KeyboardInterrupt",
     "evalue": "",
     "output_type": "error",
     "traceback": [
      "\u001b[1;31m---------------------------------------------------------------------------\u001b[0m",
      "\u001b[1;31mKeyboardInterrupt\u001b[0m                         Traceback (most recent call last)",
      "\u001b[1;31mKeyboardInterrupt\u001b[0m: "
     ]
    }
   ],
   "source": [
    "\n",
    "# Archivo australian_users_items\n",
    "\n",
    "data_list = []\n",
    "file_path = 'australian_users_items.json'\n",
    "with open(file_path, 'r', encoding='utf-8') as file:\n",
    "    for line in file:\n",
    "        try:\n",
    "            # Usar ast.literal_eval para convertir la línea en un diccionario\n",
    "            json_data = ast.literal_eval(line)\n",
    "            data_list.append(json_data)\n",
    "        except ValueError as e:\n",
    "            print(f\"Error en la línea: {line}\")\n",
    "            continue\n",
    "df_user_items = pd.DataFrame(data_list)\n",
    "\n",
    "# Creo un df con el archivo review y accedo a la columna que me interesa desanidar.\n",
    "df_items = df_user_items.explode('items')\n",
    "\n",
    "# Creo un nuevo df donde esta la info desanidada en columnas\n",
    "df_items = pd.concat([df_user_items.drop(['items'], axis=1), df_user_items['items'].apply(pd.Series)], axis=1) \n",
    "\n",
    "# Guardamos el dataframe obtenido con compresión parquet\n",
    "df_items.to_parquet('../data/df_items.parquet')"
   ]
  }
 ],
 "metadata": {
  "kernelspec": {
   "display_name": "Python 3",
   "language": "python",
   "name": "python3"
  },
  "language_info": {
   "codemirror_mode": {
    "name": "ipython",
    "version": 3
   },
   "file_extension": ".py",
   "mimetype": "text/x-python",
   "name": "python",
   "nbconvert_exporter": "python",
   "pygments_lexer": "ipython3",
   "version": "3.10.11"
  }
 },
 "nbformat": 4,
 "nbformat_minor": 2
}
