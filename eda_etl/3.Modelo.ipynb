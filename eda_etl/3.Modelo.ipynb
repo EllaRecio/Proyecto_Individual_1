{
 "cells": [
  {
   "cell_type": "markdown",
   "metadata": {},
   "source": [
    "Creación del modelo de ML  "
   ]
  },
  {
   "cell_type": "code",
   "execution_count": 1,
   "metadata": {},
   "outputs": [],
   "source": [
    "\n",
    "from sklearn.feature_extraction.text import CountVectorizer\n",
    "from sklearn.metrics.pairwise import cosine_similarity\n",
    "import pyarrow.parquet as pq\n",
    "import pandas as pd\n",
    "import joblib"
   ]
  },
  {
   "cell_type": "code",
   "execution_count": 4,
   "metadata": {},
   "outputs": [],
   "source": [
    "df_steam_games = pq.read_table(r'../Colab/df_steam_games_limpio_final.parquet').to_pandas()"
   ]
  },
  {
   "cell_type": "code",
   "execution_count": 5,
   "metadata": {},
   "outputs": [],
   "source": [
    "# elijo las columnas\n",
    "data = df_steam_games[['id', 'app_name', 'genres', 'tags', 'specs']]"
   ]
  },
  {
   "cell_type": "code",
   "execution_count": 7,
   "metadata": {},
   "outputs": [
    {
     "data": {
      "text/html": [
       "<div>\n",
       "<style scoped>\n",
       "    .dataframe tbody tr th:only-of-type {\n",
       "        vertical-align: middle;\n",
       "    }\n",
       "\n",
       "    .dataframe tbody tr th {\n",
       "        vertical-align: top;\n",
       "    }\n",
       "\n",
       "    .dataframe thead th {\n",
       "        text-align: right;\n",
       "    }\n",
       "</style>\n",
       "<table border=\"1\" class=\"dataframe\">\n",
       "  <thead>\n",
       "    <tr style=\"text-align: right;\">\n",
       "      <th></th>\n",
       "      <th>id</th>\n",
       "      <th>app_name</th>\n",
       "      <th>genres</th>\n",
       "      <th>tags</th>\n",
       "      <th>specs</th>\n",
       "      <th>combined_features</th>\n",
       "    </tr>\n",
       "  </thead>\n",
       "  <tbody>\n",
       "    <tr>\n",
       "      <th>0</th>\n",
       "      <td>761140</td>\n",
       "      <td>lost summoner kitty</td>\n",
       "      <td>action</td>\n",
       "      <td>strategy</td>\n",
       "      <td>single player</td>\n",
       "      <td>action strategy single player</td>\n",
       "    </tr>\n",
       "    <tr>\n",
       "      <th>1</th>\n",
       "      <td>761140</td>\n",
       "      <td>lost summoner kitty</td>\n",
       "      <td>action</td>\n",
       "      <td>action</td>\n",
       "      <td>single player</td>\n",
       "      <td>action action single player</td>\n",
       "    </tr>\n",
       "    <tr>\n",
       "      <th>2</th>\n",
       "      <td>761140</td>\n",
       "      <td>lost summoner kitty</td>\n",
       "      <td>action</td>\n",
       "      <td>indie</td>\n",
       "      <td>single player</td>\n",
       "      <td>action indie single player</td>\n",
       "    </tr>\n",
       "    <tr>\n",
       "      <th>3</th>\n",
       "      <td>761140</td>\n",
       "      <td>lost summoner kitty</td>\n",
       "      <td>action</td>\n",
       "      <td>casual</td>\n",
       "      <td>single player</td>\n",
       "      <td>action casual single player</td>\n",
       "    </tr>\n",
       "    <tr>\n",
       "      <th>4</th>\n",
       "      <td>761140</td>\n",
       "      <td>lost summoner kitty</td>\n",
       "      <td>action</td>\n",
       "      <td>simulation</td>\n",
       "      <td>single player</td>\n",
       "      <td>action simulation single player</td>\n",
       "    </tr>\n",
       "  </tbody>\n",
       "</table>\n",
       "</div>"
      ],
      "text/plain": [
       "       id             app_name  genres        tags          specs  \\\n",
       "0  761140  lost summoner kitty  action    strategy  single player   \n",
       "1  761140  lost summoner kitty  action      action  single player   \n",
       "2  761140  lost summoner kitty  action       indie  single player   \n",
       "3  761140  lost summoner kitty  action      casual  single player   \n",
       "4  761140  lost summoner kitty  action  simulation  single player   \n",
       "\n",
       "                 combined_features  \n",
       "0    action strategy single player  \n",
       "1      action action single player  \n",
       "2       action indie single player  \n",
       "3      action casual single player  \n",
       "4  action simulation single player  "
      ]
     },
     "execution_count": 7,
     "metadata": {},
     "output_type": "execute_result"
    }
   ],
   "source": [
    "data.head(5)"
   ]
  },
  {
   "cell_type": "code",
   "execution_count": 6,
   "metadata": {},
   "outputs": [
    {
     "name": "stderr",
     "output_type": "stream",
     "text": [
      "C:\\Users\\LENOVO\\AppData\\Local\\Temp\\ipykernel_61180\\2149226059.py:2: SettingWithCopyWarning: \n",
      "A value is trying to be set on a copy of a slice from a DataFrame.\n",
      "Try using .loc[row_indexer,col_indexer] = value instead\n",
      "\n",
      "See the caveats in the documentation: https://pandas.pydata.org/pandas-docs/stable/user_guide/indexing.html#returning-a-view-versus-a-copy\n",
      "  data['combined_features'] = data['genres'] + ' ' + data['tags'] + ' ' + data['specs']\n"
     ]
    }
   ],
   "source": [
    "# Limpieza y preprocesamiento de texto\n",
    "data['combined_features'] = data['genres'] + ' ' + data['tags'] + ' ' + data['specs']"
   ]
  },
  {
   "cell_type": "code",
   "execution_count": 8,
   "metadata": {},
   "outputs": [],
   "source": [
    "# Elimino el explode realizado y me quedo con el primero de cada 'id' como muestra para achicar el tamaño del archivo\n",
    "data = data.groupby('id').first().reset_index()"
   ]
  },
  {
   "cell_type": "code",
   "execution_count": 9,
   "metadata": {},
   "outputs": [
    {
     "data": {
      "text/html": [
       "<div>\n",
       "<style scoped>\n",
       "    .dataframe tbody tr th:only-of-type {\n",
       "        vertical-align: middle;\n",
       "    }\n",
       "\n",
       "    .dataframe tbody tr th {\n",
       "        vertical-align: top;\n",
       "    }\n",
       "\n",
       "    .dataframe thead th {\n",
       "        text-align: right;\n",
       "    }\n",
       "</style>\n",
       "<table border=\"1\" class=\"dataframe\">\n",
       "  <thead>\n",
       "    <tr style=\"text-align: right;\">\n",
       "      <th></th>\n",
       "      <th>id</th>\n",
       "      <th>app_name</th>\n",
       "      <th>genres</th>\n",
       "      <th>tags</th>\n",
       "      <th>specs</th>\n",
       "      <th>combined_features</th>\n",
       "    </tr>\n",
       "  </thead>\n",
       "  <tbody>\n",
       "    <tr>\n",
       "      <th>0</th>\n",
       "      <td>0</td>\n",
       "      <td>none</td>\n",
       "      <td>none</td>\n",
       "      <td>none</td>\n",
       "      <td>none</td>\n",
       "      <td>none none none</td>\n",
       "    </tr>\n",
       "    <tr>\n",
       "      <th>1</th>\n",
       "      <td>10</td>\n",
       "      <td>counter strike</td>\n",
       "      <td>action</td>\n",
       "      <td>action</td>\n",
       "      <td>multi player</td>\n",
       "      <td>action action multi player</td>\n",
       "    </tr>\n",
       "    <tr>\n",
       "      <th>2</th>\n",
       "      <td>20</td>\n",
       "      <td>team fortress classic</td>\n",
       "      <td>action</td>\n",
       "      <td>action</td>\n",
       "      <td>multi player</td>\n",
       "      <td>action action multi player</td>\n",
       "    </tr>\n",
       "    <tr>\n",
       "      <th>3</th>\n",
       "      <td>30</td>\n",
       "      <td>day of defeat</td>\n",
       "      <td>action</td>\n",
       "      <td>fps</td>\n",
       "      <td>multi player</td>\n",
       "      <td>action fps multi player</td>\n",
       "    </tr>\n",
       "    <tr>\n",
       "      <th>4</th>\n",
       "      <td>40</td>\n",
       "      <td>deathmatch classic</td>\n",
       "      <td>action</td>\n",
       "      <td>action</td>\n",
       "      <td>multi player</td>\n",
       "      <td>action action multi player</td>\n",
       "    </tr>\n",
       "  </tbody>\n",
       "</table>\n",
       "</div>"
      ],
      "text/plain": [
       "   id               app_name  genres    tags         specs  \\\n",
       "0   0                   none    none    none          none   \n",
       "1  10         counter strike  action  action  multi player   \n",
       "2  20  team fortress classic  action  action  multi player   \n",
       "3  30          day of defeat  action     fps  multi player   \n",
       "4  40     deathmatch classic  action  action  multi player   \n",
       "\n",
       "            combined_features  \n",
       "0              none none none  \n",
       "1  action action multi player  \n",
       "2  action action multi player  \n",
       "3     action fps multi player  \n",
       "4  action action multi player  "
      ]
     },
     "execution_count": 9,
     "metadata": {},
     "output_type": "execute_result"
    }
   ],
   "source": [
    "data.head()"
   ]
  },
  {
   "cell_type": "code",
   "execution_count": 10,
   "metadata": {},
   "outputs": [],
   "source": [
    "# Elimino los juegos que tienen id=0\n",
    "data = data[data['id']!=0]"
   ]
  },
  {
   "cell_type": "code",
   "execution_count": 12,
   "metadata": {},
   "outputs": [
    {
     "data": {
      "text/plain": [
       "30708"
      ]
     },
     "execution_count": 12,
     "metadata": {},
     "output_type": "execute_result"
    }
   ],
   "source": [
    "# Cantidad de juegos diferentes\n",
    "data['app_name'].nunique()"
   ]
  },
  {
   "cell_type": "code",
   "execution_count": 13,
   "metadata": {},
   "outputs": [],
   "source": [
    "# Tomo una muesta aleatoria de 2500 juegos con fines didacticos para reducir la matriz\n",
    "# y asi reducir el tamaño del archivo\n",
    "data = data.sample(n=2500)"
   ]
  },
  {
   "cell_type": "code",
   "execution_count": 14,
   "metadata": {},
   "outputs": [],
   "source": [
    "data.reset_index(drop=True, inplace=True)"
   ]
  },
  {
   "cell_type": "code",
   "execution_count": null,
   "metadata": {},
   "outputs": [],
   "source": [
    "# Guardo los 2500 juegos seleccionados para su posterior uso\n",
    "data.to_csv('juegos_escogidos.csv')"
   ]
  },
  {
   "cell_type": "code",
   "execution_count": null,
   "metadata": {},
   "outputs": [],
   "source": [
    "# Guardo el dataframe con compresión parquet\n",
    "import pyarrow.parquet as pq\n",
    "data.to_parquet('df_modelo.parquet')"
   ]
  },
  {
   "cell_type": "code",
   "execution_count": null,
   "metadata": {},
   "outputs": [],
   "source": [
    "# Instancio el modelo de similitud\n",
    "CV = CountVectorizer()\n",
    "converted_metrix = CV.fit_transform(data['combined_features'])"
   ]
  },
  {
   "cell_type": "code",
   "execution_count": null,
   "metadata": {},
   "outputs": [],
   "source": [
    "# Calculo la similitud entre los juegos con la distancia coseno\n",
    "cosine_similarity = cosine_similarity(converted_metrix)"
   ]
  },
  {
   "cell_type": "code",
   "execution_count": null,
   "metadata": {},
   "outputs": [],
   "source": [
    "# Guardo la matriz con compresión .pkl\n",
    "joblib.dump(cosine_similarity, 'Matriz.pkl', compress=1)"
   ]
  },
  {
   "cell_type": "code",
   "execution_count": null,
   "metadata": {},
   "outputs": [],
   "source": [
    "# Defino función para obtener la recomenación\n",
    "def get_recommendations(app_name, cosine_sim=modelo):\n",
    "    idx = data[data['app_name'] == app_name].index[0]\n",
    "    sim_scores = list(enumerate(cosine_sim[idx]))\n",
    "    sim_scores = sorted(sim_scores, key=lambda x: x[1], reverse=True)\n",
    "    sim_scores = sim_scores[1:7]  # Top 6 juegos similares, incluido él mismo\n",
    "    game_indices = [i[0] for i in sim_scores]\n",
    "    return data['app_name'].iloc[game_indices]"
   ]
  }
 ],
 "metadata": {
  "kernelspec": {
   "display_name": "Python 3",
   "language": "python",
   "name": "python3"
  },
  "language_info": {
   "codemirror_mode": {
    "name": "ipython",
    "version": 3
   },
   "file_extension": ".py",
   "mimetype": "text/x-python",
   "name": "python",
   "nbconvert_exporter": "python",
   "pygments_lexer": "ipython3",
   "version": "3.10.11"
  }
 },
 "nbformat": 4,
 "nbformat_minor": 2
}
